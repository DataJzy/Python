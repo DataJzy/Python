{
 "cells": [
  {
   "cell_type": "markdown",
   "metadata": {},
   "source": [
    "# Python 介绍\n",
    "    - python的发展历史\n",
    "    - Python怎么打东西\n",
    "    - 打印出Hello world\n",
    "        - 字符串需带\"\"\n",
    "    "
   ]
  },
  {
   "cell_type": "code",
   "execution_count": 1,
   "metadata": {},
   "outputs": [
    {
     "name": "stdout",
     "output_type": "stream",
     "text": [
      "hello world\n"
     ]
    }
   ],
   "source": [
    "print(\"hello world\")\n",
    "# #是单行注释\n",
    "\"\"\"\n",
    "以三个连续的单引号或双引号开始结尾的表示中间内容全部不执行\n",
    "\"\"\"\n"
   ]
  },
  {
   "cell_type": "markdown",
   "metadata": {},
   "source": [
    "# 命名规则\n",
    "    - 驼峰命名法\n",
    "        - 大驼峰（每个首字母大写）\n",
    "            - 一般是给类命名的时候写\n",
    "            - MyFirstLove,SonOfBitch\n",
    "        - 小驼峰（类似大驼峰，首字母小写）\n",
    "            - 一般是给普通变量或者函数命名\n",
    "            - myFirstLove,sonOfBitch\n",
    "        - posix写法\n",
    "            - 多个单词全部用下划线连接\n",
    "            - 单词全部小写\n",
    "            - my_first_love\n",
    "          \n",
    "            "
   ]
  },
  {
   "cell_type": "code",
   "execution_count": 4,
   "metadata": {},
   "outputs": [
    {
     "name": "stdout",
     "output_type": "stream",
     "text": [
      "18\n",
      "36\n",
      "54\n",
      "39\n"
     ]
    }
   ],
   "source": [
    "age1 = age2 = age3 =18\n",
    "print(age1)\n",
    "print(age2+age3)\n",
    "print(age1+age2+age3)\n",
    "\n",
    "age4,age5,age6=12,13,14\n",
    "print(age4,age5,ag6)\n",
    "print(age4+age5+age6)\n"
   ]
  },
  {
   "cell_type": "markdown",
   "metadata": {},
   "source": [
    "## 变量类型\n",
    "    - 严格意义上来说Python只有一种类型，就是对象（面向对象编程）\n",
    "    - 典型类型\n",
    "        - 数字Number\n",
    "        - 字符串String\n",
    "        - 列表list\n",
    "        - 元组tuple\n",
    "        - 字典Dictionary\n",
    "        - 集合set\n",
    "     "
   ]
  },
  {
   "cell_type": "markdown",
   "metadata": {},
   "source": [
    "### 数字类型Number\n",
    "    -整数\n",
    "        -二进制\n",
    "            -0b表示二进制，例如0b10010表示10进制的18\n",
    "        - 八进制\n",
    "            - 不常用，以0o开头的包含0-7数字\n",
    "        - 十六进制\n",
    "            - 每4位2进制表示一位16进制，0-9，a-f表示，以0x开头\n",
    "        - 十进制\n",
    "    - 浮点数\n",
    "        - 小数\n",
    "       \"\" "
   ]
  },
  {
   "cell_type": "code",
   "execution_count": 7,
   "metadata": {},
   "outputs": [
    {
     "name": "stdout",
     "output_type": "stream",
     "text": [
      "我是说\n"
     ]
    }
   ],
   "source": [
    "love = '我是说'\n",
    "print(love)"
   ]
  },
  {
   "cell_type": "code",
   "execution_count": null,
   "metadata": {},
   "outputs": [],
   "source": []
  }
 ],
 "metadata": {
  "kernelspec": {
   "display_name": "Python 3",
   "language": "python",
   "name": "python3"
  },
  "language_info": {
   "codemirror_mode": {
    "name": "ipython",
    "version": 3
   },
   "file_extension": ".py",
   "mimetype": "text/x-python",
   "name": "python",
   "nbconvert_exporter": "python",
   "pygments_lexer": "ipython3",
   "version": "3.6.5"
  }
 },
 "nbformat": 4,
 "nbformat_minor": 2
}
